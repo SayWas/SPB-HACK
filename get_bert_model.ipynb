{
 "cells": [
  {
   "cell_type": "code",
   "execution_count": 1,
   "outputs": [],
   "source": [
    "import pandas as pd\n",
    "from transformers import BertTokenizer,BertModel, AddedToken, AutoModel, AutoTokenizer"
   ],
   "metadata": {
    "collapsed": false,
    "pycharm": {
     "name": "#%%\n"
    },
    "ExecuteTime": {
     "end_time": "2023-08-25T17:55:24.645864900Z",
     "start_time": "2023-08-25T17:55:17.340788300Z"
    }
   }
  },
  {
   "cell_type": "code",
   "execution_count": 2,
   "outputs": [],
   "source": [
    "DATA_PATH = 'datasets/'\n",
    "ADDITIONAL_DATA = 'additional_data/'"
   ],
   "metadata": {
    "collapsed": false,
    "pycharm": {
     "name": "#%%\n"
    },
    "ExecuteTime": {
     "end_time": "2023-08-25T17:55:28.267988700Z",
     "start_time": "2023-08-25T17:55:28.260496300Z"
    }
   }
  },
  {
   "cell_type": "code",
   "execution_count": 3,
   "outputs": [
    {
     "name": "stderr",
     "output_type": "stream",
     "text": [
      "C:\\Users\\saifu\\AppData\\Local\\Temp\\ipykernel_15316\\786981087.py:3: DtypeWarning: Columns (4,6,7,14,15) have mixed types. Specify dtype option on import or set low_memory=False.\n",
      "  buildings = pd.read_csv(ADDITIONAL_DATA + 'building_20230808.csv')\n"
     ]
    }
   ],
   "source": [
    "areas = pd.read_csv(ADDITIONAL_DATA + 'area_20230808.csv')\n",
    "areatypes = pd.read_csv(ADDITIONAL_DATA + 'areatype_20230808.csv')\n",
    "buildings = pd.read_csv(ADDITIONAL_DATA + 'building_20230808.csv')\n",
    "districts = pd.read_csv(ADDITIONAL_DATA + 'district_20230808.csv')\n",
    "geonims = pd.read_csv(ADDITIONAL_DATA + 'geonim_20230808.csv')\n",
    "geonim_types = pd.read_csv(ADDITIONAL_DATA + 'geonimtype_20230808.csv')\n",
    "prefixes = pd.read_csv(ADDITIONAL_DATA + 'prefix_20230808.csv')\n",
    "subrfs = pd.read_csv(ADDITIONAL_DATA + 'subrf_20230808.csv')\n",
    "towns = pd.read_csv(ADDITIONAL_DATA + 'town_20230808.csv')"
   ],
   "metadata": {
    "collapsed": false,
    "pycharm": {
     "name": "#%%\n"
    },
    "ExecuteTime": {
     "end_time": "2023-08-25T17:55:35.486888600Z",
     "start_time": "2023-08-25T17:55:34.174923300Z"
    }
   }
  },
  {
   "cell_type": "code",
   "execution_count": 4,
   "outputs": [],
   "source": [
    "additional_data = [areas, areatypes, buildings, districts, geonims,geonim_types, prefixes, subrfs, towns]"
   ],
   "metadata": {
    "collapsed": false,
    "pycharm": {
     "name": "#%%\n"
    },
    "ExecuteTime": {
     "end_time": "2023-08-25T17:55:37.727188200Z",
     "start_time": "2023-08-25T17:55:37.717947100Z"
    }
   }
  },
  {
   "cell_type": "code",
   "execution_count": 5,
   "outputs": [],
   "source": [
    "df1 = pd.read_csv(DATA_PATH + 'dataset_1.csv')\n",
    "df2 = pd.read_csv(DATA_PATH + 'dataset_2.csv')\n",
    "df3 = pd.read_csv(DATA_PATH + 'dataset_3.csv')\n",
    "df4 = pd.read_csv(DATA_PATH + 'dataset_4.csv')\n",
    "df5 = pd.read_csv(DATA_PATH + 'dataset_5.csv')"
   ],
   "metadata": {
    "collapsed": false,
    "pycharm": {
     "name": "#%%\n"
    },
    "ExecuteTime": {
     "end_time": "2023-08-25T17:55:41.685422300Z",
     "start_time": "2023-08-25T17:55:40.987839500Z"
    }
   }
  },
  {
   "cell_type": "code",
   "execution_count": 6,
   "outputs": [],
   "source": [
    "cols_fine_tune = ['name', 'short_name', 'only_name']\n",
    "data_2finetune = []"
   ],
   "metadata": {
    "collapsed": false,
    "pycharm": {
     "name": "#%%\n"
    },
    "ExecuteTime": {
     "end_time": "2023-08-25T17:55:48.522864200Z",
     "start_time": "2023-08-25T17:55:48.512863100Z"
    }
   }
  },
  {
   "cell_type": "code",
   "execution_count": 7,
   "outputs": [],
   "source": [
    "for df in additional_data:\n",
    "    for col in cols_fine_tune:\n",
    "        if col in df.columns:\n",
    "            data_2finetune.append(df[col].values.tolist())"
   ],
   "metadata": {
    "collapsed": false,
    "pycharm": {
     "name": "#%%\n"
    },
    "ExecuteTime": {
     "end_time": "2023-08-25T17:56:07.261065400Z",
     "start_time": "2023-08-25T17:56:07.249205300Z"
    }
   }
  },
  {
   "cell_type": "code",
   "execution_count": 8,
   "outputs": [],
   "source": [
    "tokens = []\n",
    "for sublist in data_2finetune:\n",
    "    for item in sublist:\n",
    "        tokens.append(item)"
   ],
   "metadata": {
    "collapsed": false,
    "pycharm": {
     "name": "#%%\n"
    },
    "ExecuteTime": {
     "end_time": "2023-08-25T17:56:09.432701700Z",
     "start_time": "2023-08-25T17:56:09.422979100Z"
    }
   }
  },
  {
   "cell_type": "code",
   "execution_count": 10,
   "outputs": [],
   "source": [
    "embedders_names = ['cointegrated/rubert-tiny', 'DeepPavlov/rubert-base-cased']"
   ],
   "metadata": {
    "collapsed": false,
    "pycharm": {
     "name": "#%%\n"
    },
    "ExecuteTime": {
     "end_time": "2023-08-25T17:56:30.847145800Z",
     "start_time": "2023-08-25T17:56:30.839626100Z"
    }
   }
  },
  {
   "cell_type": "code",
   "execution_count": 11,
   "outputs": [
    {
     "data": {
      "text/plain": "Downloading (…)okenizer_config.json:   0%|          | 0.00/24.0 [00:00<?, ?B/s]",
      "application/vnd.jupyter.widget-view+json": {
       "version_major": 2,
       "version_minor": 0,
       "model_id": "7cd57e4896d644e0bd59d588e0325893"
      }
     },
     "metadata": {},
     "output_type": "display_data"
    },
    {
     "data": {
      "text/plain": "Downloading (…)lve/main/config.json:   0%|          | 0.00/642 [00:00<?, ?B/s]",
      "application/vnd.jupyter.widget-view+json": {
       "version_major": 2,
       "version_minor": 0,
       "model_id": "ca33f10d49ff4a07b0345c8929b026c5"
      }
     },
     "metadata": {},
     "output_type": "display_data"
    },
    {
     "data": {
      "text/plain": "Downloading (…)solve/main/vocab.txt:   0%|          | 0.00/1.65M [00:00<?, ?B/s]",
      "application/vnd.jupyter.widget-view+json": {
       "version_major": 2,
       "version_minor": 0,
       "model_id": "84c0879180e14f7698109ab1fa5a793a"
      }
     },
     "metadata": {},
     "output_type": "display_data"
    },
    {
     "data": {
      "text/plain": "Downloading (…)cial_tokens_map.json:   0%|          | 0.00/112 [00:00<?, ?B/s]",
      "application/vnd.jupyter.widget-view+json": {
       "version_major": 2,
       "version_minor": 0,
       "model_id": "1554bbe13c894e679fd9f924b4acc8f9"
      }
     },
     "metadata": {},
     "output_type": "display_data"
    },
    {
     "data": {
      "text/plain": "Downloading pytorch_model.bin:   0%|          | 0.00/714M [00:00<?, ?B/s]",
      "application/vnd.jupyter.widget-view+json": {
       "version_major": 2,
       "version_minor": 0,
       "model_id": "a6e29426d8114f2293effc2862d89b31"
      }
     },
     "metadata": {},
     "output_type": "display_data"
    },
    {
     "name": "stderr",
     "output_type": "stream",
     "text": [
      "Some weights of the model checkpoint at DeepPavlov/rubert-base-cased were not used when initializing BertModel: ['cls.predictions.decoder.weight', 'cls.predictions.transform.LayerNorm.weight', 'cls.predictions.bias', 'cls.seq_relationship.bias', 'cls.predictions.decoder.bias', 'cls.predictions.transform.dense.weight', 'cls.predictions.transform.dense.bias', 'cls.predictions.transform.LayerNorm.bias', 'cls.seq_relationship.weight']\n",
      "- This IS expected if you are initializing BertModel from the checkpoint of a model trained on another task or with another architecture (e.g. initializing a BertForSequenceClassification model from a BertForPreTraining model).\n",
      "- This IS NOT expected if you are initializing BertModel from the checkpoint of a model that you expect to be exactly identical (initializing a BertForSequenceClassification model from a BertForSequenceClassification model).\n"
     ]
    }
   ],
   "source": [
    "tokenizer = AutoTokenizer.from_pretrained(embedders_names[1])\n",
    "model = AutoModel.from_pretrained(embedders_names[1])\n",
    "new_tokens = set(tokens) - set(tokenizer.vocab.keys())"
   ],
   "metadata": {
    "collapsed": false,
    "pycharm": {
     "name": "#%%\n"
    },
    "ExecuteTime": {
     "end_time": "2023-08-25T18:01:31.795382100Z",
     "start_time": "2023-08-25T17:56:32.281946600Z"
    }
   }
  },
  {
   "cell_type": "code",
   "execution_count": 12,
   "outputs": [],
   "source": [
    "new_tokens = [AddedToken(str(token)) for token in new_tokens]"
   ],
   "metadata": {
    "collapsed": false,
    "pycharm": {
     "name": "#%%\n"
    },
    "ExecuteTime": {
     "end_time": "2023-08-25T18:02:03.855484500Z",
     "start_time": "2023-08-25T18:02:03.816374Z"
    }
   }
  },
  {
   "cell_type": "code",
   "execution_count": 13,
   "outputs": [
    {
     "name": "stderr",
     "output_type": "stream",
     "text": [
      "You are resizing the embedding layer without providing a `pad_to_multiple_of` parameter. This means that the new embeding dimension will be 158674. This might induce some performance reduction as *Tensor Cores* will not be available. For more details  about this, or help on choosing the correct value for resizing, refer to this guide: https://docs.nvidia.com/deeplearning/performance/dl-performance-matrix-multiplication/index.html#requirements-tc\n"
     ]
    },
    {
     "data": {
      "text/plain": "Embedding(158674, 768)"
     },
     "execution_count": 13,
     "metadata": {},
     "output_type": "execute_result"
    }
   ],
   "source": [
    "tokenizer.add_tokens(list(new_tokens))\n",
    "model.resize_token_embeddings(len(tokenizer))"
   ],
   "metadata": {
    "collapsed": false,
    "pycharm": {
     "name": "#%%\n"
    },
    "ExecuteTime": {
     "end_time": "2023-08-25T18:02:12.034092Z",
     "start_time": "2023-08-25T18:02:09.347388900Z"
    }
   }
  },
  {
   "cell_type": "code",
   "execution_count": 14,
   "outputs": [],
   "source": [
    "model.save_pretrained('bert_new_vocab')"
   ],
   "metadata": {
    "collapsed": false,
    "pycharm": {
     "name": "#%%\n"
    },
    "ExecuteTime": {
     "end_time": "2023-08-25T18:03:56.129955300Z",
     "start_time": "2023-08-25T18:03:54.976383100Z"
    }
   }
  },
  {
   "cell_type": "code",
   "execution_count": 31,
   "outputs": [],
   "source": [
    "bert_model = BertModel.from_pretrained('bert_new_vocab')"
   ],
   "metadata": {
    "collapsed": false,
    "pycharm": {
     "name": "#%%\n"
    }
   }
  }
 ],
 "metadata": {
  "kernelspec": {
   "display_name": "Python 3",
   "language": "python",
   "name": "python3"
  },
  "language_info": {
   "codemirror_mode": {
    "name": "ipython",
    "version": 2
   },
   "file_extension": ".py",
   "mimetype": "text/x-python",
   "name": "python",
   "nbconvert_exporter": "python",
   "pygments_lexer": "ipython2",
   "version": "2.7.6"
  }
 },
 "nbformat": 4,
 "nbformat_minor": 0
}
